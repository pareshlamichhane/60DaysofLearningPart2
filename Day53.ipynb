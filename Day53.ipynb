{
 "cells": [
  {
   "cell_type": "code",
   "execution_count": 1,
   "id": "f01960ab-9982-4d07-8a68-312b60611610",
   "metadata": {},
   "outputs": [
    {
     "name": "stdout",
     "output_type": "stream",
     "text": [
      "[0, 1, 4, 9, 16, 25, 36, 49, 64, 81]\n"
     ]
    }
   ],
   "source": [
    "# Square numbers from 0 to 9\n",
    "squares = [x**2 for x in range(10)]\n",
    "print(squares)"
   ]
  },
  {
   "cell_type": "code",
   "execution_count": 2,
   "id": "217a0b27-e2ce-492a-a95d-ee72ae2c4240",
   "metadata": {},
   "outputs": [
    {
     "name": "stdout",
     "output_type": "stream",
     "text": [
      "[0, 2, 4, 6, 8, 10, 12, 14, 16, 18]\n"
     ]
    }
   ],
   "source": [
    "# Filter even numbers\n",
    "evens = [x for x in range(20) if x % 2 == 0]\n",
    "print(evens)"
   ]
  },
  {
   "cell_type": "code",
   "execution_count": 3,
   "id": "4b337035-0989-4467-b729-c4e8c3bb1205",
   "metadata": {},
   "outputs": [
    {
     "name": "stdout",
     "output_type": "stream",
     "text": [
      "[[0, 0, 0], [0, 1, 2], [0, 2, 4]]\n"
     ]
    }
   ],
   "source": [
    "# Nested lists\n",
    "matrix = [[i * j for j in range(3)] for i in range(3)]\n",
    "print(matrix)"
   ]
  },
  {
   "cell_type": "code",
   "execution_count": 4,
   "id": "fb15f57a-4b42-4869-80ab-169ce8d26ed9",
   "metadata": {},
   "outputs": [
    {
     "name": "stdout",
     "output_type": "stream",
     "text": [
      "0: apple\n",
      "1: banana\n",
      "2: cherry\n"
     ]
    }
   ],
   "source": [
    "# enumerate with list\n",
    "items = ['apple', 'banana', 'cherry']\n",
    "for index, item in enumerate(items):\n",
    "    print(f\"{index}: {item}\")"
   ]
  },
  {
   "cell_type": "code",
   "execution_count": 6,
   "id": "953ee359-47b6-4888-9d8d-ca3a308e495d",
   "metadata": {},
   "outputs": [
    {
     "name": "stdout",
     "output_type": "stream",
     "text": [
      "['ALICE', 'BOB', 'CHARLIE']\n"
     ]
    }
   ],
   "source": [
    "# convert to uppercase\n",
    "names = [\"alice\", \"bob\", \"charlie\"]\n",
    "uppercase_names = [name.upper() for name in names]\n",
    "print(uppercase_names)"
   ]
  },
  {
   "cell_type": "code",
   "execution_count": 7,
   "id": "e739ea95-61e0-44d9-b201-1ad23f04bc10",
   "metadata": {},
   "outputs": [
    {
     "name": "stdout",
     "output_type": "stream",
     "text": [
      "[5, 5, 6]\n"
     ]
    }
   ],
   "source": [
    "# get length of words\n",
    "words = [\"hello\", \"world\", \"python\"]\n",
    "lengths = [len(word) for word in words]\n",
    "print(lengths)"
   ]
  },
  {
   "cell_type": "code",
   "execution_count": 9,
   "id": "d0bf2384-200f-4fe3-8a1f-12381efe0b69",
   "metadata": {},
   "outputs": [
    {
     "name": "stdout",
     "output_type": "stream",
     "text": [
      "[4, 10, 18]\n"
     ]
    }
   ],
   "source": [
    "# multiply elements in two lists (element wise)\n",
    "a = [1, 2, 3]\n",
    "b = [4, 5, 6]\n",
    "product = [x * y for x, y in zip(a, b)]\n",
    "print(product)"
   ]
  },
  {
   "cell_type": "code",
   "execution_count": 12,
   "id": "ea7c7af8-d941-48a6-b341-78662c2832e1",
   "metadata": {},
   "outputs": [
    {
     "name": "stdout",
     "output_type": "stream",
     "text": [
      "['alice', 'anna']\n"
     ]
    }
   ],
   "source": [
    "# filter name starting with a\n",
    "names = [\"alice\", \"bob\", \"anna\", \"mike\"]\n",
    "starts_with_a = [name for name in names if name.startswith('a')]\n",
    "print(starts_with_a)"
   ]
  },
  {
   "cell_type": "code",
   "execution_count": 14,
   "id": "26e9e6e7-c6bb-4d54-a312-e411b0ea0e03",
   "metadata": {},
   "outputs": [
    {
     "name": "stdout",
     "output_type": "stream",
     "text": [
      "[1, 2, 3, 4, 5, 6]\n"
     ]
    }
   ],
   "source": [
    "# flatten a 2d list\n",
    "matrix = [[1, 2], [3, 4], [5, 6]]\n",
    "flat = [item for row in matrix for item in row]\n",
    "print(flat)"
   ]
  },
  {
   "cell_type": "code",
   "execution_count": 16,
   "id": "5170af7d-5782-4b56-b84d-cc740ee317d9",
   "metadata": {},
   "outputs": [
    {
     "name": "stdout",
     "output_type": "stream",
     "text": [
      "['tsil', 'snoisneherpmoc', 'era', 'looc']\n"
     ]
    }
   ],
   "source": [
    "# reverse each words in sentence\n",
    "sentence = \"list comprehensions are cool\"\n",
    "reversed_words = [word[::-1] for word in sentence.split()]\n",
    "print(reversed_words)"
   ]
  },
  {
   "cell_type": "code",
   "execution_count": 17,
   "id": "26172b0c-9ad1-437e-8485-84de2cbe6281",
   "metadata": {},
   "outputs": [
    {
     "name": "stdout",
     "output_type": "stream",
     "text": [
      "['h', '*', 'l', 'l', '*', ' ', 'w', '*', 'r', 'l', 'd']\n"
     ]
    }
   ],
   "source": [
    "# replace vowels with *\n",
    "text = \"hello world\"\n",
    "masked = ['*' if c in 'aeiou' else c for c in text]\n",
    "print(masked)"
   ]
  },
  {
   "cell_type": "code",
   "execution_count": 18,
   "id": "e38313b6-a546-428a-83ab-aba925b588d1",
   "metadata": {},
   "outputs": [
    {
     "name": "stdout",
     "output_type": "stream",
     "text": [
      "{'a': 1, 'b': 2, 'c': 3}\n"
     ]
    }
   ],
   "source": [
    "# create dictionary from two lists\n",
    "keys = ['a', 'b', 'c']\n",
    "values = [1, 2, 3]\n",
    "d = {k: v for k, v in zip(keys, values)}\n",
    "print(d)"
   ]
  },
  {
   "cell_type": "code",
   "execution_count": 19,
   "id": "8752b0c5-3082-4853-88c5-422470a632e6",
   "metadata": {},
   "outputs": [
    {
     "name": "stdout",
     "output_type": "stream",
     "text": [
      "0 a\n",
      "1 b\n",
      "2 c\n"
     ]
    }
   ],
   "source": [
    "# enumerate loop with index\n",
    "for i, val in enumerate([\"a\", \"b\", \"c\"]):\n",
    "    print(i, val)"
   ]
  },
  {
   "cell_type": "code",
   "execution_count": 20,
   "id": "611907e3-643b-4796-9cd7-9669cda25638",
   "metadata": {},
   "outputs": [
    {
     "name": "stdout",
     "output_type": "stream",
     "text": [
      "1. apple\n",
      "2. banana\n",
      "3. cherry\n"
     ]
    }
   ],
   "source": [
    "# start indexing from 1\n",
    "for i, val in enumerate([\"apple\", \"banana\", \"cherry\"], start=1):\n",
    "    print(f\"{i}. {val}\")"
   ]
  },
  {
   "cell_type": "code",
   "execution_count": 21,
   "id": "34dc99a6-ce9f-478e-b6ce-d3750a6f5559",
   "metadata": {},
   "outputs": [
    {
     "name": "stdout",
     "output_type": "stream",
     "text": [
      "1. apple\n",
      "2. banana\n",
      "3. cherry\n"
     ]
    }
   ],
   "source": [
    "# build dict with indexes\n",
    "for i, val in enumerate([\"apple\", \"banana\", \"cherry\"], start=1):\n",
    "    print(f\"{i}. {val}\")"
   ]
  },
  {
   "cell_type": "code",
   "execution_count": 25,
   "id": "a78c4b6d-7dc6-4063-b620-1d0e666245ed",
   "metadata": {},
   "outputs": [
    {
     "name": "stdout",
     "output_type": "stream",
     "text": [
      "1\n"
     ]
    }
   ],
   "source": [
    "# identify first vowel index\n",
    "word = \"ball\"\n",
    "vowel_index = next((i for i, c in enumerate(word) if c in \"aeiou\"), -1)\n",
    "print(vowel_index)"
   ]
  },
  {
   "cell_type": "code",
   "execution_count": 26,
   "id": "6a3b6ae6-bad4-48a5-896f-ab400b444aae",
   "metadata": {},
   "outputs": [
    {
     "name": "stdout",
     "output_type": "stream",
     "text": [
      "Index 0 → Odd\n",
      "Index 1 → Even\n",
      "Index 2 → Odd\n",
      "Index 3 → Even\n"
     ]
    }
   ],
   "source": [
    "# track even/odd status with index\n",
    "nums = [11, 22, 33, 44]\n",
    "for i, num in enumerate(nums):\n",
    "    print(f\"Index {i} → {'Even' if num % 2 == 0 else 'Odd'}\")"
   ]
  },
  {
   "cell_type": "code",
   "execution_count": null,
   "id": "4610d763-7902-4c42-b454-43e837fb7f18",
   "metadata": {},
   "outputs": [],
   "source": []
  }
 ],
 "metadata": {
  "kernelspec": {
   "display_name": "Python 3 (ipykernel)",
   "language": "python",
   "name": "python3"
  },
  "language_info": {
   "codemirror_mode": {
    "name": "ipython",
    "version": 3
   },
   "file_extension": ".py",
   "mimetype": "text/x-python",
   "name": "python",
   "nbconvert_exporter": "python",
   "pygments_lexer": "ipython3",
   "version": "3.12.3"
  }
 },
 "nbformat": 4,
 "nbformat_minor": 5
}
