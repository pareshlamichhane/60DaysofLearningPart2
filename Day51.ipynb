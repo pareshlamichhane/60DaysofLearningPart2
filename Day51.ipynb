{
 "cells": [
  {
   "cell_type": "code",
   "execution_count": 1,
   "id": "282ef011-3ddd-46c5-9e39-234678687964",
   "metadata": {},
   "outputs": [
    {
     "name": "stdout",
     "output_type": "stream",
     "text": [
      "Array a: [1 2 3]\n",
      "Zeros b:\n",
      " [[0. 0. 0.]\n",
      " [0. 0. 0.]]\n",
      "Ones c:\n",
      " [[1. 1. 1.]\n",
      " [1. 1. 1.]\n",
      " [1. 1. 1.]]\n",
      "Identity d:\n",
      " [[1. 0. 0.]\n",
      " [0. 1. 0.]\n",
      " [0. 0. 1.]]\n",
      "Arange e: [0 2 4 6 8]\n",
      "Linspace f: [0.   0.25 0.5  0.75 1.  ]\n",
      "Converted to float: [1. 2. 3.]\n"
     ]
    }
   ],
   "source": [
    "import numpy as np\n",
    "\n",
    "# Basic arrays\n",
    "a = np.array([1, 2, 3])\n",
    "b = np.zeros((2, 3))\n",
    "c = np.ones((3, 3))\n",
    "d = np.eye(3)  # Identity matrix\n",
    "e = np.arange(0, 10, 2)\n",
    "f = np.linspace(0, 1, 5)\n",
    "\n",
    "print(\"Array a:\", a)\n",
    "print(\"Zeros b:\\n\", b)\n",
    "print(\"Ones c:\\n\", c)\n",
    "print(\"Identity d:\\n\", d)\n",
    "print(\"Arange e:\", e)\n",
    "print(\"Linspace f:\", f)\n",
    "\n",
    "# Type conversion\n",
    "g = a.astype(float)\n",
    "print(\"Converted to float:\", g)"
   ]
  },
  {
   "cell_type": "code",
   "execution_count": 2,
   "id": "971edf22-7fab-4856-b116-1d692cc3bd7f",
   "metadata": {},
   "outputs": [
    {
     "name": "stdout",
     "output_type": "stream",
     "text": [
      "Original: [0 1 2 3 4 5 6 7 8 9]\n",
      "Even index values: [0 2 4 6]\n",
      "Values > 5: [6 7 8 9]\n",
      "Replaced arr: [-1 -1 -1 -1 -1  5  6  7  8  9]\n"
     ]
    }
   ],
   "source": [
    "arr = np.arange(10)\n",
    "print(\"Original:\", arr)\n",
    "\n",
    "# Fancy indexing\n",
    "print(\"Even index values:\", arr[[0, 2, 4, 6]])\n",
    "\n",
    "# Boolean indexing\n",
    "print(\"Values > 5:\", arr[arr > 5])\n",
    "\n",
    "# Conditional replacement\n",
    "arr[arr < 5] = -1\n",
    "print(\"Replaced arr:\", arr)"
   ]
  },
  {
   "cell_type": "code",
   "execution_count": 3,
   "id": "7f5f2133-496a-4d73-91ae-a9867f0a8e43",
   "metadata": {},
   "outputs": [
    {
     "name": "stdout",
     "output_type": "stream",
     "text": [
      "Broadcasted addition:\n",
      " [[11 12 13]\n",
      " [21 22 23]\n",
      " [31 32 33]]\n",
      "Squared values: [ 1  4  9 16 25]\n"
     ]
    }
   ],
   "source": [
    "x = np.array([1, 2, 3])\n",
    "y = np.array([[10], [20], [30]])\n",
    "\n",
    "# Broadcasting addition\n",
    "result = x + y\n",
    "print(\"Broadcasted addition:\\n\", result)\n",
    "\n",
    "# Vectorized operation instead of loop\n",
    "z = np.arange(1, 6)\n",
    "squared = z ** 2\n",
    "print(\"Squared values:\", squared)"
   ]
  },
  {
   "cell_type": "code",
   "execution_count": 4,
   "id": "552565f9-c2bc-48ce-ba79-adfc1d1fecf7",
   "metadata": {},
   "outputs": [
    {
     "name": "stdout",
     "output_type": "stream",
     "text": [
      "Element-wise addition:\n",
      " [[ 6  8]\n",
      " [10 12]]\n",
      "Matrix multiplication:\n",
      " [[19 22]\n",
      " [43 50]]\n",
      "Sqrt: [1. 2. 3.]\n",
      "Exp: [2.71828183e+00 5.45981500e+01 8.10308393e+03]\n",
      "Log: [0.         1.38629436 2.19722458]\n"
     ]
    }
   ],
   "source": [
    "mat1 = np.array([[1, 2], [3, 4]])\n",
    "mat2 = np.array([[5, 6], [7, 8]])\n",
    "\n",
    "# Element-wise operations\n",
    "print(\"Element-wise addition:\\n\", mat1 + mat2)\n",
    "print(\"Matrix multiplication:\\n\", np.dot(mat1, mat2))  # or mat1 @ mat2\n",
    "\n",
    "# Element-wise math functions\n",
    "a = np.array([1, 4, 9])\n",
    "print(\"Sqrt:\", np.sqrt(a))\n",
    "print(\"Exp:\", np.exp(a))\n",
    "print(\"Log:\", np.log(a))"
   ]
  },
  {
   "cell_type": "code",
   "execution_count": 5,
   "id": "b6482040-9cc9-492c-ba30-157c5df1c5e4",
   "metadata": {},
   "outputs": [
    {
     "name": "stdout",
     "output_type": "stream",
     "text": [
      "Data:\n",
      " [[-0.1477125   0.58612105 -1.01856384  1.04138627]\n",
      " [ 0.65972647 -0.78035573 -0.39067742 -1.61700188]\n",
      " [-2.04072934  0.11204201 -1.4603361  -0.15906346]]\n",
      "Mean: -0.43459703967500457\n",
      "Mean across columns: [-0.50957179 -0.02739756 -0.95652579 -0.24489302]\n",
      "Std deviation: 0.9294868590834612\n",
      "Percentile (50th): -0.2748704419787955\n"
     ]
    }
   ],
   "source": [
    "data = np.random.randn(3, 4)\n",
    "print(\"Data:\\n\", data)\n",
    "\n",
    "print(\"Mean:\", np.mean(data))\n",
    "print(\"Mean across columns:\", np.mean(data, axis=0))\n",
    "print(\"Std deviation:\", np.std(data))\n",
    "print(\"Percentile (50th):\", np.percentile(data, 50))"
   ]
  },
  {
   "cell_type": "code",
   "execution_count": 6,
   "id": "0bba0092-4f48-4c89-bc98-d34a7daa376d",
   "metadata": {},
   "outputs": [
    {
     "name": "stdout",
     "output_type": "stream",
     "text": [
      "Reshaped:\n",
      " [[ 0  1  2  3]\n",
      " [ 4  5  6  7]\n",
      " [ 8  9 10 11]]\n",
      "Flattened: [ 0  1  2  3  4  5  6  7  8  9 10 11]\n",
      "Transposed:\n",
      " [[ 0  4  8]\n",
      " [ 1  5  9]\n",
      " [ 2  6 10]\n",
      " [ 3  7 11]]\n",
      "Vertical stack:\n",
      " [[1 2 3]\n",
      " [4 5 6]]\n",
      "Horizontal stack: [1 2 3 4 5 6]\n"
     ]
    }
   ],
   "source": [
    "x = np.arange(12)\n",
    "reshaped = x.reshape((3, 4))\n",
    "print(\"Reshaped:\\n\", reshaped)\n",
    "\n",
    "# Flatten\n",
    "print(\"Flattened:\", reshaped.flatten())\n",
    "\n",
    "# Transpose\n",
    "print(\"Transposed:\\n\", reshaped.T)\n",
    "\n",
    "# Stack arrays\n",
    "a = np.array([1, 2, 3])\n",
    "b = np.array([4, 5, 6])\n",
    "print(\"Vertical stack:\\n\", np.vstack((a, b)))\n",
    "print(\"Horizontal stack:\", np.hstack((a, b)))"
   ]
  },
  {
   "cell_type": "code",
   "execution_count": 7,
   "id": "a3a848ba-8341-444e-a92e-73b4fe2cd3f2",
   "metadata": {},
   "outputs": [
    {
     "name": "stdout",
     "output_type": "stream",
     "text": [
      "Random rand: [0.37454012 0.95071431 0.73199394]\n",
      "Random randn: [-1.11188012  0.31890218  0.27904129]\n",
      "Random ints: [7 2 5 4 1]\n",
      "Shuffled: [8 2 9 6 0 4 3 1 5 7]\n",
      "Random choice: [7 4 3]\n"
     ]
    }
   ],
   "source": [
    "np.random.seed(42)  # Reproducibility\n",
    "\n",
    "# Random floats\n",
    "print(\"Random rand:\", np.random.rand(3))\n",
    "\n",
    "# Normal distribution\n",
    "print(\"Random randn:\", np.random.randn(3))\n",
    "\n",
    "# Random integers\n",
    "print(\"Random ints:\", np.random.randint(0, 10, size=5))\n",
    "\n",
    "# Shuffle array\n",
    "x = np.arange(10)\n",
    "np.random.shuffle(x)\n",
    "print(\"Shuffled:\", x)\n",
    "\n",
    "# Random choice\n",
    "print(\"Random choice:\", np.random.choice(x, size=3, replace=False))"
   ]
  },
  {
   "cell_type": "code",
   "execution_count": 8,
   "id": "2a793c05-6b48-4f0f-815b-0218d16622d0",
   "metadata": {},
   "outputs": [
    {
     "name": "stdout",
     "output_type": "stream",
     "text": [
      "Distance between sample 0 and 1: 1.7802728645265071\n",
      "Mean of class 0: [ 0.00153865 -0.02498835]\n",
      "Mean of class 1: [0.10760501 0.06378004]\n"
     ]
    }
   ],
   "source": [
    "# Simulate a dataset\n",
    "X = np.random.randn(1000, 2)  # 1000 samples, 2 features\n",
    "y = np.random.choice([0, 1], size=1000)\n",
    "\n",
    "# Normalize X manually\n",
    "X_min = X.min(axis=0)\n",
    "X_max = X.max(axis=0)\n",
    "X_norm = (X - X_min) / (X_max - X_min)\n",
    "\n",
    "# Compute Euclidean distance between two samples\n",
    "from numpy.linalg import norm\n",
    "dist = norm(X[0] - X[1])\n",
    "print(\"Distance between sample 0 and 1:\", dist)\n",
    "\n",
    "# Class-wise mean\n",
    "print(\"Mean of class 0:\", X[y == 0].mean(axis=0))\n",
    "print(\"Mean of class 1:\", X[y == 1].mean(axis=0))"
   ]
  },
  {
   "cell_type": "code",
   "execution_count": null,
   "id": "c5e68371-9aca-4a11-a47c-a5a51eccf51e",
   "metadata": {},
   "outputs": [],
   "source": []
  }
 ],
 "metadata": {
  "kernelspec": {
   "display_name": "Python 3 (ipykernel)",
   "language": "python",
   "name": "python3"
  },
  "language_info": {
   "codemirror_mode": {
    "name": "ipython",
    "version": 3
   },
   "file_extension": ".py",
   "mimetype": "text/x-python",
   "name": "python",
   "nbconvert_exporter": "python",
   "pygments_lexer": "ipython3",
   "version": "3.12.3"
  }
 },
 "nbformat": 4,
 "nbformat_minor": 5
}
