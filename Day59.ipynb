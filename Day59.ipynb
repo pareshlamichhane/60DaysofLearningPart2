{
 "cells": [
  {
   "cell_type": "code",
   "execution_count": 1,
   "id": "3872b962-9e6e-4234-b92c-0f1b081a67ab",
   "metadata": {},
   "outputs": [
    {
     "name": "stdout",
     "output_type": "stream",
     "text": [
      "Classification Report:\n",
      "               precision    recall  f1-score   support\n",
      "\n",
      "           0       1.00      0.97      0.98        33\n",
      "           1       0.97      1.00      0.98        28\n",
      "           2       1.00      1.00      1.00        33\n",
      "           3       1.00      0.94      0.97        34\n",
      "           4       0.98      1.00      0.99        46\n",
      "           5       0.94      0.96      0.95        47\n",
      "           6       0.97      0.97      0.97        35\n",
      "           7       0.97      0.97      0.97        34\n",
      "           8       0.97      0.97      0.97        30\n",
      "           9       0.95      0.95      0.95        40\n",
      "\n",
      "    accuracy                           0.97       360\n",
      "   macro avg       0.97      0.97      0.97       360\n",
      "weighted avg       0.97      0.97      0.97       360\n",
      "\n",
      "Model saved as 'digits_model.joblib'\n"
     ]
    }
   ],
   "source": [
    "from sklearn.datasets import load_digits\n",
    "from sklearn.ensemble import RandomForestClassifier\n",
    "from sklearn.model_selection import train_test_split\n",
    "from sklearn.metrics import classification_report\n",
    "import joblib\n",
    "\n",
    "# Load the digits dataset (8x8 grayscale)\n",
    "digits = load_digits()\n",
    "X, y = digits.data, digits.target\n",
    "\n",
    "# Split for evaluation (optional)\n",
    "X_train, X_test, y_train, y_test = train_test_split(X, y, test_size=0.2, random_state=42)\n",
    "\n",
    "# Train classifier\n",
    "clf = RandomForestClassifier(n_estimators=100, random_state=42)\n",
    "clf.fit(X_train, y_train)\n",
    "\n",
    "# Evaluate\n",
    "y_pred = clf.predict(X_test)\n",
    "print(\"Classification Report:\\n\", classification_report(y_test, y_pred))\n",
    "\n",
    "# Save model\n",
    "joblib.dump(clf, 'digits_model.joblib')\n",
    "print(\"Model saved as 'digits_model.joblib'\")\n"
   ]
  },
  {
   "cell_type": "code",
   "execution_count": 2,
   "id": "4b15fefd-b82d-47bc-9fcd-924b89e77312",
   "metadata": {},
   "outputs": [],
   "source": [
    "from PIL import Image, ImageOps\n",
    "import numpy as np\n",
    "import joblib\n",
    "\n",
    "def preprocess_image(path):\n",
    "    # Load and convert to grayscale\n",
    "    img = Image.open(path).convert('L')\n",
    "\n",
    "    # Invert (black background, white digit for sklearn format)\n",
    "    img = ImageOps.invert(img)\n",
    "\n",
    "    # Resize to 8x8\n",
    "    img = img.resize((8, 8), Image.LANCZOS)\n",
    "\n",
    "    # Normalize pixel values from 0–255 to 0–16 (like digits dataset)\n",
    "    img_np = np.array(img)\n",
    "    img_np = (img_np / 255.0) * 16\n",
    "    img_np = img_np.astype('int')\n",
    "\n",
    "    # Flatten to 64-length vector\n",
    "    return img_np.flatten()"
   ]
  },
  {
   "cell_type": "code",
   "execution_count": 3,
   "id": "5c1541ec-c979-4a4a-87f2-d8587811e512",
   "metadata": {},
   "outputs": [],
   "source": [
    "# Load model\n",
    "clf = joblib.load('digits_model.joblib')"
   ]
  },
  {
   "cell_type": "code",
   "execution_count": 4,
   "id": "d72d590c-1846-4397-aebd-dae95bd58569",
   "metadata": {},
   "outputs": [],
   "source": [
    "# Preprocess and predict\n",
    "tone = preprocess_image(\"digiits/one.png\")\n",
    "ttwo = preprocess_image(\"digiits/two.png\")\n",
    "tthree = preprocess_image(\"digiits/three.png\")\n",
    "tfour = preprocess_image(\"digiits/four.png\")\n",
    "tfive = preprocess_image(\"digiits/five.png\")\n",
    "tsix = preprocess_image(\"digiits/six.png\")\n",
    "tseven = preprocess_image(\"digiits/seven.png\")\n",
    "teight = preprocess_image(\"digiits/eight.png\")\n",
    "tnine = preprocess_image(\"digiits/nine.png\")\n",
    "tzero = preprocess_image(\"digiits/zero.png\")"
   ]
  },
  {
   "cell_type": "code",
   "execution_count": 5,
   "id": "d8190da4-681a-4d09-abc4-3acae8cea57b",
   "metadata": {},
   "outputs": [
    {
     "name": "stdout",
     "output_type": "stream",
     "text": [
      "Trying to predict one , model Predicted digit: 1\n"
     ]
    }
   ],
   "source": [
    "prediction_one = clf.predict([tone])\n",
    "\n",
    "print(\"Trying to predict one , model Predicted digit:\", prediction_one[0])\n"
   ]
  },
  {
   "cell_type": "code",
   "execution_count": 6,
   "id": "43877517-d36e-406f-8250-192ef3ee1707",
   "metadata": {},
   "outputs": [
    {
     "name": "stdout",
     "output_type": "stream",
     "text": [
      "Trying to predict one , model Predicted digit: 5\n"
     ]
    }
   ],
   "source": [
    "prediction_two = clf.predict([ttwo])\n",
    "\n",
    "print(\"Trying to predict one , model Predicted digit:\", prediction_two[0])"
   ]
  },
  {
   "cell_type": "code",
   "execution_count": 7,
   "id": "21de601e-1e77-40a3-8cc5-a975512b9ba4",
   "metadata": {},
   "outputs": [
    {
     "name": "stdout",
     "output_type": "stream",
     "text": [
      "Trying to predict one , model Predicted digit: 5\n"
     ]
    }
   ],
   "source": [
    "prediction_three = clf.predict([tthree])\n",
    "\n",
    "print(\"Trying to predict one , model Predicted digit:\", prediction_three[0])"
   ]
  },
  {
   "cell_type": "code",
   "execution_count": 8,
   "id": "5dac3aca-a783-4d3d-9545-d1cf17ed3818",
   "metadata": {},
   "outputs": [
    {
     "name": "stdout",
     "output_type": "stream",
     "text": [
      "Trying to predict one , model Predicted digit: 1\n"
     ]
    }
   ],
   "source": [
    "prediction_four = clf.predict([tfour])\n",
    "\n",
    "print(\"Trying to predict one , model Predicted digit:\", prediction_four[0])"
   ]
  },
  {
   "cell_type": "code",
   "execution_count": 9,
   "id": "37f126da-d756-4a03-b8a2-7ab767a33a6e",
   "metadata": {},
   "outputs": [
    {
     "name": "stdout",
     "output_type": "stream",
     "text": [
      "Trying to predict one , model Predicted digit: 1\n"
     ]
    }
   ],
   "source": [
    "prediction_five = clf.predict([tfive])\n",
    "\n",
    "print(\"Trying to predict one , model Predicted digit:\", prediction_five[0])"
   ]
  },
  {
   "cell_type": "code",
   "execution_count": 10,
   "id": "a9bf3222-abcc-42bd-8372-08dc9ef5bbc9",
   "metadata": {},
   "outputs": [
    {
     "name": "stdout",
     "output_type": "stream",
     "text": [
      "Trying to predict one , model Predicted digit: 1\n"
     ]
    }
   ],
   "source": [
    "prediction_six = clf.predict([tsix])\n",
    "\n",
    "print(\"Trying to predict one , model Predicted digit:\", prediction_six[0])"
   ]
  },
  {
   "cell_type": "code",
   "execution_count": 11,
   "id": "d3a325d3-abfb-48a7-b74f-85530910a5c0",
   "metadata": {},
   "outputs": [
    {
     "name": "stdout",
     "output_type": "stream",
     "text": [
      "Trying to predict one , model Predicted digit: 1\n"
     ]
    }
   ],
   "source": [
    "prediction_seven = clf.predict([tseven])\n",
    "\n",
    "print(\"Trying to predict one , model Predicted digit:\", prediction_seven[0])"
   ]
  },
  {
   "cell_type": "code",
   "execution_count": 12,
   "id": "62b9b33f-b223-4ece-891f-bf8a9f75ceaa",
   "metadata": {},
   "outputs": [
    {
     "name": "stdout",
     "output_type": "stream",
     "text": [
      "Trying to predict one , model Predicted digit: 5\n"
     ]
    }
   ],
   "source": [
    "prediction_eight = clf.predict([teight])\n",
    "\n",
    "print(\"Trying to predict one , model Predicted digit:\", prediction_eight[0])"
   ]
  },
  {
   "cell_type": "code",
   "execution_count": 13,
   "id": "43ba729f-99fb-48df-8290-cc9365177608",
   "metadata": {},
   "outputs": [
    {
     "name": "stdout",
     "output_type": "stream",
     "text": [
      "Trying to predict one , model Predicted digit: 5\n"
     ]
    }
   ],
   "source": [
    "prediction_nine = clf.predict([tnine])\n",
    "\n",
    "print(\"Trying to predict one , model Predicted digit:\", prediction_nine[0])"
   ]
  },
  {
   "cell_type": "code",
   "execution_count": 14,
   "id": "006f475e-c1f8-418d-9c5d-625aa30a74a1",
   "metadata": {},
   "outputs": [
    {
     "name": "stdout",
     "output_type": "stream",
     "text": [
      "Trying to predict one , model Predicted digit: 5\n"
     ]
    }
   ],
   "source": [
    "prediction_zero = clf.predict([tzero])\n",
    "\n",
    "print(\"Trying to predict one , model Predicted digit:\", prediction_zero[0])"
   ]
  },
  {
   "cell_type": "code",
   "execution_count": 16,
   "id": "ee2e78d3-cc85-4e47-8c7c-420defee90e2",
   "metadata": {},
   "outputs": [],
   "source": [
    "# Preprocess and predict\n",
    "t1 = preprocess_image(\"digiits/text/1.png\")\n",
    "t2 = preprocess_image(\"digiits/text/2.png\")\n",
    "t3 = preprocess_image(\"digiits/text/3.png\")\n",
    "t4 = preprocess_image(\"digiits/text/4.png\")\n",
    "t5 = preprocess_image(\"digiits/text/5.png\")\n",
    "t6 = preprocess_image(\"digiits/text/6.png\")\n",
    "t7 = preprocess_image(\"digiits/text/7.png\")\n",
    "t8 = preprocess_image(\"digiits/text/8.png\")\n",
    "t9 = preprocess_image(\"digiits/text/9.png\")\n",
    "t0 = preprocess_image(\"digiits/text/0.png\")"
   ]
  },
  {
   "cell_type": "code",
   "execution_count": 17,
   "id": "535d04d7-eace-4300-824c-51132aa9ff9b",
   "metadata": {},
   "outputs": [],
   "source": [
    "prediction_0 = clf.predict([t0])\n",
    "prediction_1 = clf.predict([t1])\n",
    "prediction_2 = clf.predict([t2])\n",
    "prediction_3 = clf.predict([t3])\n",
    "prediction_4 = clf.predict([t4])\n",
    "prediction_5 = clf.predict([t5])\n",
    "prediction_6 = clf.predict([t6])\n",
    "prediction_7 = clf.predict([t7])\n",
    "prediction_8 = clf.predict([t8])\n",
    "prediction_9 = clf.predict([t9])"
   ]
  },
  {
   "cell_type": "code",
   "execution_count": 19,
   "id": "b7195b7a-9eff-4701-bc48-f0b8c87510f0",
   "metadata": {},
   "outputs": [
    {
     "name": "stdout",
     "output_type": "stream",
     "text": [
      "Trying to predict 1 , model Predicted digit: 7\n",
      "Trying to predict 2 , model Predicted digit: 2\n",
      "Trying to predict 3 , model Predicted digit: 7\n",
      "Trying to predict 4 , model Predicted digit: 4\n",
      "Trying to predict 5 , model Predicted digit: 7\n",
      "Trying to predict 6 , model Predicted digit: 4\n",
      "Trying to predict 7 , model Predicted digit: 7\n",
      "Trying to predict 8 , model Predicted digit: 8\n",
      "Trying to predict 9 , model Predicted digit: 4\n",
      "Trying to predict 0 , model Predicted digit: 0\n"
     ]
    }
   ],
   "source": [
    "print(\"Trying to predict 1 , model Predicted digit:\", prediction_1[0])\n",
    "print(\"Trying to predict 2 , model Predicted digit:\", prediction_2[0])\n",
    "print(\"Trying to predict 3 , model Predicted digit:\", prediction_3[0])\n",
    "print(\"Trying to predict 4 , model Predicted digit:\", prediction_4[0])\n",
    "print(\"Trying to predict 5 , model Predicted digit:\", prediction_5[0])\n",
    "print(\"Trying to predict 6 , model Predicted digit:\", prediction_6[0])\n",
    "print(\"Trying to predict 7 , model Predicted digit:\", prediction_7[0])\n",
    "print(\"Trying to predict 8 , model Predicted digit:\", prediction_8[0])\n",
    "print(\"Trying to predict 9 , model Predicted digit:\", prediction_9[0])\n",
    "print(\"Trying to predict 0 , model Predicted digit:\", prediction_0[0])"
   ]
  },
  {
   "cell_type": "code",
   "execution_count": null,
   "id": "ab3d19c1-47a2-489c-ada4-ec92240ac57b",
   "metadata": {},
   "outputs": [],
   "source": []
  }
 ],
 "metadata": {
  "kernelspec": {
   "display_name": "Python 3 (ipykernel)",
   "language": "python",
   "name": "python3"
  },
  "language_info": {
   "codemirror_mode": {
    "name": "ipython",
    "version": 3
   },
   "file_extension": ".py",
   "mimetype": "text/x-python",
   "name": "python",
   "nbconvert_exporter": "python",
   "pygments_lexer": "ipython3",
   "version": "3.12.3"
  }
 },
 "nbformat": 4,
 "nbformat_minor": 5
}
