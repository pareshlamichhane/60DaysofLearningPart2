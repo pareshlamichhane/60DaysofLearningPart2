{
 "cells": [
  {
   "cell_type": "code",
   "execution_count": 2,
   "id": "76bb37c2-ab6c-4ff5-8e7c-e284e7e1bc3f",
   "metadata": {},
   "outputs": [],
   "source": [
    "import pandas as pd"
   ]
  },
  {
   "cell_type": "code",
   "execution_count": 3,
   "id": "d3ccbf77-33af-4bc5-adf0-f500725cdefc",
   "metadata": {},
   "outputs": [
    {
     "name": "stdout",
     "output_type": "stream",
     "text": [
      "a    10\n",
      "b    20\n",
      "c    30\n",
      "dtype: int64\n"
     ]
    }
   ],
   "source": [
    "# Series\n",
    "s = pd.Series([10, 20, 30], index=[\"a\", \"b\", \"c\"])\n",
    "print(s)"
   ]
  },
  {
   "cell_type": "code",
   "execution_count": 4,
   "id": "bda7f4fd-c990-4abd-ae09-3aec7771cd6b",
   "metadata": {},
   "outputs": [
    {
     "name": "stdout",
     "output_type": "stream",
     "text": [
      "      Name  Age       City\n",
      "0    Alice   25  Kathmandu\n",
      "1      Bob   30    Pokhara\n",
      "2  Charlie   35   Lalitpur\n"
     ]
    }
   ],
   "source": [
    "# DataFrame from dictionary\n",
    "df = pd.DataFrame({\n",
    "    'Name': ['Alice', 'Bob', 'Charlie'],\n",
    "    'Age': [25, 30, 35],\n",
    "    'City': ['Kathmandu', 'Pokhara', 'Lalitpur']\n",
    "})\n",
    "print(df)"
   ]
  },
  {
   "cell_type": "code",
   "execution_count": 5,
   "id": "33f28b82-c782-4ee8-b488-521003276bda",
   "metadata": {},
   "outputs": [
    {
     "name": "stdout",
     "output_type": "stream",
     "text": [
      "Name        Alice\n",
      "Age            25\n",
      "City    Kathmandu\n",
      "Name: 0, dtype: object\n",
      "Name        Bob\n",
      "Age          30\n",
      "City    Pokhara\n",
      "Name: 1, dtype: object\n"
     ]
    }
   ],
   "source": [
    "# Row access\n",
    "print(df.iloc[0])        # by index\n",
    "print(df.loc[1])         # by label"
   ]
  },
  {
   "cell_type": "code",
   "execution_count": 6,
   "id": "8f7e59ec-4bf9-4ae6-a2a3-90cfaada87da",
   "metadata": {},
   "outputs": [
    {
     "name": "stdout",
     "output_type": "stream",
     "text": [
      "0      Alice\n",
      "1        Bob\n",
      "2    Charlie\n",
      "Name: Name, dtype: object\n"
     ]
    }
   ],
   "source": [
    "# Column access\n",
    "print(df['Name'])"
   ]
  },
  {
   "cell_type": "code",
   "execution_count": 7,
   "id": "89f21225-b8ef-4704-ae15-3bd75ddc78bf",
   "metadata": {},
   "outputs": [
    {
     "name": "stdout",
     "output_type": "stream",
     "text": [
      "      Name  Age      City\n",
      "1      Bob   30   Pokhara\n",
      "2  Charlie   35  Lalitpur\n"
     ]
    }
   ],
   "source": [
    "# Slicing\n",
    "print(df[1:])            # rows from index 1 onwards"
   ]
  },
  {
   "cell_type": "code",
   "execution_count": 8,
   "id": "ff914c61-ae3b-431f-a511-b16de126d89f",
   "metadata": {},
   "outputs": [
    {
     "name": "stdout",
     "output_type": "stream",
     "text": [
      "      Name  Age      City\n",
      "1      Bob   30   Pokhara\n",
      "2  Charlie   35  Lalitpur\n"
     ]
    }
   ],
   "source": [
    "# Filter using condition\n",
    "print(df[df['Age'] > 28])"
   ]
  },
  {
   "cell_type": "code",
   "execution_count": 9,
   "id": "577beaa8-78c9-4008-8a41-becc34fca57d",
   "metadata": {},
   "outputs": [
    {
     "name": "stdout",
     "output_type": "stream",
     "text": [
      "  Name  Age     City\n",
      "1  Bob   30  Pokhara\n"
     ]
    }
   ],
   "source": [
    "# Multiple conditions\n",
    "print(df[(df['Age'] > 25) & (df['City'] == 'Pokhara')])"
   ]
  },
  {
   "cell_type": "code",
   "execution_count": 10,
   "id": "cccf1c17-98a3-45d4-99df-b909a32ccbe8",
   "metadata": {},
   "outputs": [
    {
     "name": "stdout",
     "output_type": "stream",
     "text": [
      "      Name  Age       City  Salary\n",
      "0    Alice   25  Kathmandu   50000\n",
      "1      Bob   30    Pokhara   60000\n",
      "2  Charlie   35   Lalitpur   70000\n"
     ]
    }
   ],
   "source": [
    "df['Salary'] = [50000, 60000, 70000]  # Add new column\n",
    "print(df)"
   ]
  },
  {
   "cell_type": "code",
   "execution_count": 11,
   "id": "7c7a54c9-443a-44cd-9e9b-f1e888dc9acf",
   "metadata": {},
   "outputs": [
    {
     "name": "stdout",
     "output_type": "stream",
     "text": [
      "      Name  Age       City\n",
      "0    Alice   25  Kathmandu\n",
      "1      Bob   30    Pokhara\n",
      "2  Charlie   35   Lalitpur\n"
     ]
    }
   ],
   "source": [
    "df.drop('Salary', axis=1, inplace=True)  # Remove column\n",
    "print(df)"
   ]
  },
  {
   "cell_type": "code",
   "execution_count": 12,
   "id": "7678ec6c-7b0b-4590-8e0d-7b09dc56ac95",
   "metadata": {},
   "outputs": [
    {
     "name": "stdout",
     "output_type": "stream",
     "text": [
      "30.0\n"
     ]
    }
   ],
   "source": [
    "print(df['Age'].mean())"
   ]
  },
  {
   "cell_type": "code",
   "execution_count": 13,
   "id": "7ef1f4af-4dff-4481-b3ff-9200aacd167c",
   "metadata": {},
   "outputs": [
    {
     "name": "stdout",
     "output_type": "stream",
     "text": [
      "        Age\n",
      "count   3.0\n",
      "mean   30.0\n",
      "std     5.0\n",
      "min    25.0\n",
      "25%    27.5\n",
      "50%    30.0\n",
      "75%    32.5\n",
      "max    35.0\n"
     ]
    }
   ],
   "source": [
    "print(df.describe())"
   ]
  },
  {
   "cell_type": "code",
   "execution_count": 14,
   "id": "5853343e-2119-4d8c-8a56-b0f3cedfd16e",
   "metadata": {},
   "outputs": [
    {
     "name": "stdout",
     "output_type": "stream",
     "text": [
      "Age\n",
      "25    1\n",
      "30    1\n",
      "35    1\n",
      "Name: count, dtype: int64\n"
     ]
    }
   ],
   "source": [
    "print(df['Age'].value_counts())"
   ]
  },
  {
   "cell_type": "code",
   "execution_count": 15,
   "id": "a9bb9287-a3a1-449a-9d48-19c9da7db67d",
   "metadata": {},
   "outputs": [
    {
     "name": "stdout",
     "output_type": "stream",
     "text": [
      "      Name  Age       City\n",
      "0    Alice   25  Kathmandu\n",
      "1      Bob   30    Pokhara\n",
      "2  Charlie   35   Lalitpur\n"
     ]
    }
   ],
   "source": [
    "# By one column\n",
    "print(df.sort_values('Age'))"
   ]
  },
  {
   "cell_type": "code",
   "execution_count": 16,
   "id": "f302badf-5198-4f4b-8fa1-907091ec73c7",
   "metadata": {},
   "outputs": [
    {
     "name": "stdout",
     "output_type": "stream",
     "text": [
      "      Name  Age       City\n",
      "0    Alice   25  Kathmandu\n",
      "2  Charlie   35   Lalitpur\n",
      "1      Bob   30    Pokhara\n"
     ]
    }
   ],
   "source": [
    "# By multiple columns\n",
    "print(df.sort_values(by=['City', 'Age'], ascending=[True, False]))"
   ]
  },
  {
   "cell_type": "code",
   "execution_count": 17,
   "id": "2ae59252-9e3f-4541-9544-4a2b2036383b",
   "metadata": {},
   "outputs": [
    {
     "name": "stdout",
     "output_type": "stream",
     "text": [
      "Department\n",
      "HR    30.0\n",
      "IT    30.0\n",
      "Name: Age, dtype: float64\n"
     ]
    }
   ],
   "source": [
    "df['Department'] = ['IT', 'HR', 'IT']\n",
    "grouped = df.groupby('Department')\n",
    "print(grouped['Age'].mean())"
   ]
  },
  {
   "cell_type": "code",
   "execution_count": 18,
   "id": "8f03393c-e1b8-474e-86da-77b1007449d7",
   "metadata": {},
   "outputs": [],
   "source": [
    "df2 = pd.DataFrame({\n",
    "    'A': [1, 2, None],\n",
    "    'B': [4, None, 6]\n",
    "})"
   ]
  },
  {
   "cell_type": "code",
   "execution_count": 19,
   "id": "3b0fc488-6d34-4bb5-89d6-e695d620119e",
   "metadata": {},
   "outputs": [
    {
     "name": "stdout",
     "output_type": "stream",
     "text": [
      "     A    B\n",
      "0  1.0  4.0\n",
      "1  2.0  0.0\n",
      "2  0.0  6.0\n"
     ]
    }
   ],
   "source": [
    "# Fill NaN\n",
    "print(df2.fillna(0))"
   ]
  },
  {
   "cell_type": "code",
   "execution_count": 20,
   "id": "8fd2a710-ac25-4c90-82cc-919a1ae9c3fd",
   "metadata": {},
   "outputs": [
    {
     "name": "stdout",
     "output_type": "stream",
     "text": [
      "     A    B\n",
      "0  1.0  4.0\n"
     ]
    }
   ],
   "source": [
    "# Drop rows with NaN\n",
    "print(df2.dropna())"
   ]
  },
  {
   "cell_type": "code",
   "execution_count": 21,
   "id": "058f19eb-c28d-4d44-8af2-5e0616934c0b",
   "metadata": {},
   "outputs": [
    {
     "name": "stdout",
     "output_type": "stream",
     "text": [
      "   ID Name  Score\n",
      "0   1    A     90\n",
      "1   2    B     85\n"
     ]
    }
   ],
   "source": [
    "df1 = pd.DataFrame({'ID': [1, 2], 'Name': ['A', 'B']})\n",
    "df2 = pd.DataFrame({'ID': [1, 2], 'Score': [90, 85]})\n",
    "\n",
    "merged = pd.merge(df1, df2, on='ID')\n",
    "print(merged)"
   ]
  },
  {
   "cell_type": "code",
   "execution_count": 22,
   "id": "51ef2c95-72a2-469f-a8d1-82cae3b96256",
   "metadata": {},
   "outputs": [],
   "source": [
    "# CSV\n",
    "df.to_csv(\"mydata.csv\", index=False)"
   ]
  },
  {
   "cell_type": "code",
   "execution_count": 23,
   "id": "dae6e700-7dee-4fb3-b4c9-dda7c4e4c755",
   "metadata": {},
   "outputs": [
    {
     "name": "stdout",
     "output_type": "stream",
     "text": [
      "      Name  Age       City Department\n",
      "0    Alice   25  Kathmandu         IT\n",
      "1      Bob   30    Pokhara         HR\n",
      "2  Charlie   35   Lalitpur         IT\n"
     ]
    }
   ],
   "source": [
    "# Read CSV\n",
    "new_df = pd.read_csv(\"mydata.csv\")\n",
    "print(new_df.head())"
   ]
  }
 ],
 "metadata": {
  "kernelspec": {
   "display_name": "Python 3 (ipykernel)",
   "language": "python",
   "name": "python3"
  },
  "language_info": {
   "codemirror_mode": {
    "name": "ipython",
    "version": 3
   },
   "file_extension": ".py",
   "mimetype": "text/x-python",
   "name": "python",
   "nbconvert_exporter": "python",
   "pygments_lexer": "ipython3",
   "version": "3.12.3"
  }
 },
 "nbformat": 4,
 "nbformat_minor": 5
}
