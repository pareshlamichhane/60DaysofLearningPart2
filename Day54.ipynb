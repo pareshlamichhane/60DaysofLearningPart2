{
 "cells": [
  {
   "cell_type": "code",
   "execution_count": 2,
   "id": "21cf12e6-13dd-4f14-8334-72b3da7bef21",
   "metadata": {},
   "outputs": [],
   "source": [
    "import pandas as pd\n",
    "import numpy as np"
   ]
  },
  {
   "cell_type": "code",
   "execution_count": 4,
   "id": "a249acf5-83d8-4435-a45d-4dc456fc5c34",
   "metadata": {},
   "outputs": [],
   "source": [
    "# Sample DataFrame\n",
    "df = pd.DataFrame({\n",
    "    'Name': ['Alice', ' Bob ', None, 'Dave'],\n",
    "    'Age': [25, np.nan, 22, 29],\n",
    "    'Score': [85, 90, np.nan, 88]\n",
    "})"
   ]
  },
  {
   "cell_type": "code",
   "execution_count": 5,
   "id": "7feebec3-aed5-4015-ba91-e2e1b8fb1cd4",
   "metadata": {},
   "outputs": [
    {
     "name": "stdout",
     "output_type": "stream",
     "text": [
      "    Name    Age  Score\n",
      "0  False  False  False\n",
      "1  False   True  False\n",
      "2   True  False   True\n",
      "3  False  False  False\n"
     ]
    }
   ],
   "source": [
    "# 1. Check for missing values\n",
    "print(df.isna())"
   ]
  },
  {
   "cell_type": "code",
   "execution_count": 6,
   "id": "50db3978-01e6-4f4b-b6c5-b692da6ac874",
   "metadata": {},
   "outputs": [],
   "source": [
    "# 2. Drop rows with any missing values\n",
    "df_dropped = df.dropna()"
   ]
  },
  {
   "cell_type": "code",
   "execution_count": 8,
   "id": "0a1e1048-f510-464c-8b98-09604985c03c",
   "metadata": {},
   "outputs": [
    {
     "name": "stdout",
     "output_type": "stream",
     "text": [
      "    Name    Age  Score\n",
      "0  False  False  False\n",
      "3  False  False  False\n"
     ]
    }
   ],
   "source": [
    "# Check dropped\n",
    "print(df_dropped.isna())"
   ]
  },
  {
   "cell_type": "code",
   "execution_count": 9,
   "id": "e38b2575-c77a-4069-8ab2-4db001750c89",
   "metadata": {},
   "outputs": [],
   "source": [
    "# 3. Fill missing values\n",
    "df_filled = df.fillna({'Age': df['Age'].mean(), 'Score': 0, 'Name': 'Unknown'})"
   ]
  },
  {
   "cell_type": "code",
   "execution_count": 11,
   "id": "1e919a64-937f-4dc0-8cf3-7a9256622c70",
   "metadata": {},
   "outputs": [
    {
     "name": "stdout",
     "output_type": "stream",
     "text": [
      "      Name        Age  Score\n",
      "0    Alice  25.000000   85.0\n",
      "1     Bob   25.333333   90.0\n",
      "2  Unknown  22.000000    0.0\n",
      "3     Dave  29.000000   88.0\n"
     ]
    }
   ],
   "source": [
    "# check filled\n",
    "print(df_filled)"
   ]
  },
  {
   "cell_type": "code",
   "execution_count": 25,
   "id": "3b01fb42-be41-4bc7-a0e2-e5bf46d31216",
   "metadata": {},
   "outputs": [
    {
     "name": "stdout",
     "output_type": "stream",
     "text": [
      "                    Name   Age  Score\n",
      "0                  Alice  25.0   85.0\n",
      "1             Bahadur      NaN   90.0\n",
      "2                   None  22.0    NaN\n",
      "3                   Dave  29.0   88.0\n"
     ]
    }
   ],
   "source": [
    "# 4. Replace values\n",
    "df_replaced = df.replace({'Bob': '           Bahadur   '})\n",
    "# print\n",
    "print(df_replaced)"
   ]
  },
  {
   "cell_type": "code",
   "execution_count": 26,
   "id": "d371de71-f4c8-42d5-b4ab-099bb3121696",
   "metadata": {},
   "outputs": [
    {
     "name": "stdout",
     "output_type": "stream",
     "text": [
      "      Name   Age  Score\n",
      "0    Alice  25.0   85.0\n",
      "1  Bahadur   NaN   90.0\n",
      "2     None  22.0    NaN\n",
      "3     Dave  29.0   88.0\n"
     ]
    }
   ],
   "source": [
    "# 5. Strip whitespace from 'Name'\n",
    "df_replaced['Name'] = df_replaced['Name'].str.strip()\n",
    "print(df_replaced)"
   ]
  },
  {
   "cell_type": "code",
   "execution_count": 29,
   "id": "f787e84d-9249-4d3f-b89d-4661c5eeb736",
   "metadata": {},
   "outputs": [
    {
     "name": "stdout",
     "output_type": "stream",
     "text": [
      "      Name   Age  Exam Score\n",
      "0    Alice  25.0        85.0\n",
      "1  Bahadur   NaN        90.0\n",
      "2     None  22.0         NaN\n",
      "3     Dave  29.0        88.0\n"
     ]
    }
   ],
   "source": [
    "# 6. Rename columns\n",
    "df_replaced.rename(columns={'Score': 'Exam Score'}, inplace=True)\n",
    "print(df_replaced)"
   ]
  },
  {
   "cell_type": "code",
   "execution_count": 32,
   "id": "a3f6a3b0-f60a-44f4-8d21-aa3ec7d2f561",
   "metadata": {},
   "outputs": [
    {
     "name": "stdout",
     "output_type": "stream",
     "text": [
      "      Name  Age  Score\n",
      "0    Alice   25   85.0\n",
      "1     Bob    25   90.0\n",
      "2  Unknown   22    0.0\n",
      "3     Dave   29   88.0\n"
     ]
    }
   ],
   "source": [
    "# 7. Change data type of Age to int (after filling NaNs)\n",
    "df_filled['Age'] = df_filled['Age'].fillna(0).astype(int)\n",
    "print(df_filled)"
   ]
  },
  {
   "cell_type": "code",
   "execution_count": 33,
   "id": "61defa55-5e92-4234-aa28-f040c38ddbdb",
   "metadata": {},
   "outputs": [
    {
     "data": {
      "text/html": [
       "<div>\n",
       "<style scoped>\n",
       "    .dataframe tbody tr th:only-of-type {\n",
       "        vertical-align: middle;\n",
       "    }\n",
       "\n",
       "    .dataframe tbody tr th {\n",
       "        vertical-align: top;\n",
       "    }\n",
       "\n",
       "    .dataframe thead th {\n",
       "        text-align: right;\n",
       "    }\n",
       "</style>\n",
       "<table border=\"1\" class=\"dataframe\">\n",
       "  <thead>\n",
       "    <tr style=\"text-align: right;\">\n",
       "      <th></th>\n",
       "      <th>Name</th>\n",
       "      <th>Age</th>\n",
       "      <th>Score</th>\n",
       "    </tr>\n",
       "  </thead>\n",
       "  <tbody>\n",
       "    <tr>\n",
       "      <th>0</th>\n",
       "      <td>Alice</td>\n",
       "      <td>25</td>\n",
       "      <td>85.0</td>\n",
       "    </tr>\n",
       "    <tr>\n",
       "      <th>1</th>\n",
       "      <td>Bob</td>\n",
       "      <td>25</td>\n",
       "      <td>90.0</td>\n",
       "    </tr>\n",
       "    <tr>\n",
       "      <th>2</th>\n",
       "      <td>Unknown</td>\n",
       "      <td>22</td>\n",
       "      <td>0.0</td>\n",
       "    </tr>\n",
       "    <tr>\n",
       "      <th>3</th>\n",
       "      <td>Dave</td>\n",
       "      <td>29</td>\n",
       "      <td>88.0</td>\n",
       "    </tr>\n",
       "  </tbody>\n",
       "</table>\n",
       "</div>"
      ],
      "text/plain": [
       "      Name  Age  Score\n",
       "0    Alice   25   85.0\n",
       "1     Bob    25   90.0\n",
       "2  Unknown   22    0.0\n",
       "3     Dave   29   88.0"
      ]
     },
     "execution_count": 33,
     "metadata": {},
     "output_type": "execute_result"
    }
   ],
   "source": [
    "df_filled.sort_values(by='Score', ascending=False)\n",
    "df_filled.sort_index()"
   ]
  },
  {
   "cell_type": "code",
   "execution_count": 34,
   "id": "c700b2d9-bb38-4b65-856d-0bc04586fd82",
   "metadata": {},
   "outputs": [
    {
     "data": {
      "text/html": [
       "<div>\n",
       "<style scoped>\n",
       "    .dataframe tbody tr th:only-of-type {\n",
       "        vertical-align: middle;\n",
       "    }\n",
       "\n",
       "    .dataframe tbody tr th {\n",
       "        vertical-align: top;\n",
       "    }\n",
       "\n",
       "    .dataframe thead th {\n",
       "        text-align: right;\n",
       "    }\n",
       "</style>\n",
       "<table border=\"1\" class=\"dataframe\">\n",
       "  <thead>\n",
       "    <tr style=\"text-align: right;\">\n",
       "      <th></th>\n",
       "      <th>Name</th>\n",
       "      <th>Age</th>\n",
       "      <th>Score</th>\n",
       "    </tr>\n",
       "  </thead>\n",
       "  <tbody>\n",
       "    <tr>\n",
       "      <th>3</th>\n",
       "      <td>Dave</td>\n",
       "      <td>29</td>\n",
       "      <td>88.0</td>\n",
       "    </tr>\n",
       "  </tbody>\n",
       "</table>\n",
       "</div>"
      ],
      "text/plain": [
       "   Name  Age  Score\n",
       "3  Dave   29   88.0"
      ]
     },
     "execution_count": 34,
     "metadata": {},
     "output_type": "execute_result"
    }
   ],
   "source": [
    "df_filled[df_filled['Age'] > 25]\n",
    "df_filled[(df_filled['Age'] > 25) & (df_filled['Score'] > 80)]"
   ]
  },
  {
   "cell_type": "code",
   "execution_count": 36,
   "id": "3e24cf01-a730-4ecf-b18b-3f9e2db8b409",
   "metadata": {},
   "outputs": [
    {
     "name": "stdout",
     "output_type": "stream",
     "text": [
      "      Name  Age  Score Age Group\n",
      "0    Alice   25   85.0     Adult\n",
      "1     Bob    25   90.0     Adult\n",
      "2  Unknown   22    0.0     Adult\n",
      "3     Dave   29   88.0     Adult\n"
     ]
    }
   ],
   "source": [
    "# Using map on a Series\n",
    "df_filled['Age Group'] = df_filled['Age'].map(lambda x: 'Adult' if x >= 18 else 'Minor')\n",
    "print(df_filled)"
   ]
  },
  {
   "cell_type": "code",
   "execution_count": 38,
   "id": "c93185ba-5e6a-4c49-9a3f-a11c5e3544cb",
   "metadata": {},
   "outputs": [
    {
     "name": "stdout",
     "output_type": "stream",
     "text": [
      "      Name  Age  Score Age Group  Name Length\n",
      "0    Alice   25   85.0     Adult            5\n",
      "1     Bob    25   90.0     Adult            5\n",
      "2  Unknown   22    0.0     Adult            7\n",
      "3     Dave   29   88.0     Adult            4\n"
     ]
    }
   ],
   "source": [
    "# Using apply on a row\n",
    "df_filled['Name Length'] = df_filled['Name'].apply(len)\n",
    "print(df_filled)"
   ]
  },
  {
   "cell_type": "code",
   "execution_count": 40,
   "id": "d8323747-1407-4912-8469-5ecde2afbe9b",
   "metadata": {},
   "outputs": [
    {
     "name": "stdout",
     "output_type": "stream",
     "text": [
      "      Name  Age  Score Age Group  Name Length\n",
      "0        A   25   85.0     Adult            5\n",
      "1     Bob    25   90.0     Adult            5\n",
      "2  Unknown   22    0.0     Adult            7\n",
      "3     Dave   29   88.0     Adult            4\n"
     ]
    }
   ],
   "source": [
    "# Replacing multiple values\n",
    "df_filled['Name'] = df_filled['Name'].replace(['Alice', 'Bob'], ['A', 'B'])\n",
    "print(df_filled)"
   ]
  },
  {
   "cell_type": "code",
   "execution_count": 45,
   "id": "e627dfc8-b823-4423-8aec-771c79b69c11",
   "metadata": {},
   "outputs": [
    {
     "data": {
      "text/html": [
       "<div>\n",
       "<style scoped>\n",
       "    .dataframe tbody tr th:only-of-type {\n",
       "        vertical-align: middle;\n",
       "    }\n",
       "\n",
       "    .dataframe tbody tr th {\n",
       "        vertical-align: top;\n",
       "    }\n",
       "\n",
       "    .dataframe thead th {\n",
       "        text-align: right;\n",
       "    }\n",
       "</style>\n",
       "<table border=\"1\" class=\"dataframe\">\n",
       "  <thead>\n",
       "    <tr style=\"text-align: right;\">\n",
       "      <th></th>\n",
       "      <th>Age</th>\n",
       "      <th>Score</th>\n",
       "      <th>Name Length</th>\n",
       "    </tr>\n",
       "  </thead>\n",
       "  <tbody>\n",
       "    <tr>\n",
       "      <th>count</th>\n",
       "      <td>4.000000</td>\n",
       "      <td>4.000000</td>\n",
       "      <td>4.000000</td>\n",
       "    </tr>\n",
       "    <tr>\n",
       "      <th>mean</th>\n",
       "      <td>25.250000</td>\n",
       "      <td>65.750000</td>\n",
       "      <td>5.250000</td>\n",
       "    </tr>\n",
       "    <tr>\n",
       "      <th>std</th>\n",
       "      <td>2.872281</td>\n",
       "      <td>43.881469</td>\n",
       "      <td>1.258306</td>\n",
       "    </tr>\n",
       "    <tr>\n",
       "      <th>min</th>\n",
       "      <td>22.000000</td>\n",
       "      <td>0.000000</td>\n",
       "      <td>4.000000</td>\n",
       "    </tr>\n",
       "    <tr>\n",
       "      <th>25%</th>\n",
       "      <td>24.250000</td>\n",
       "      <td>63.750000</td>\n",
       "      <td>4.750000</td>\n",
       "    </tr>\n",
       "    <tr>\n",
       "      <th>50%</th>\n",
       "      <td>25.000000</td>\n",
       "      <td>86.500000</td>\n",
       "      <td>5.000000</td>\n",
       "    </tr>\n",
       "    <tr>\n",
       "      <th>75%</th>\n",
       "      <td>26.000000</td>\n",
       "      <td>88.500000</td>\n",
       "      <td>5.500000</td>\n",
       "    </tr>\n",
       "    <tr>\n",
       "      <th>max</th>\n",
       "      <td>29.000000</td>\n",
       "      <td>90.000000</td>\n",
       "      <td>7.000000</td>\n",
       "    </tr>\n",
       "  </tbody>\n",
       "</table>\n",
       "</div>"
      ],
      "text/plain": [
       "             Age      Score  Name Length\n",
       "count   4.000000   4.000000     4.000000\n",
       "mean   25.250000  65.750000     5.250000\n",
       "std     2.872281  43.881469     1.258306\n",
       "min    22.000000   0.000000     4.000000\n",
       "25%    24.250000  63.750000     4.750000\n",
       "50%    25.000000  86.500000     5.000000\n",
       "75%    26.000000  88.500000     5.500000\n",
       "max    29.000000  90.000000     7.000000"
      ]
     },
     "execution_count": 45,
     "metadata": {},
     "output_type": "execute_result"
    }
   ],
   "source": [
    "df_filled.describe()"
   ]
  },
  {
   "cell_type": "code",
   "execution_count": 46,
   "id": "a38d3bb3-b251-4bc4-a293-a7ea111dd207",
   "metadata": {},
   "outputs": [
    {
     "data": {
      "text/plain": [
       "np.float64(65.75)"
      ]
     },
     "execution_count": 46,
     "metadata": {},
     "output_type": "execute_result"
    }
   ],
   "source": [
    "df_filled['Score'].mean()"
   ]
  },
  {
   "cell_type": "code",
   "execution_count": 47,
   "id": "cd632598-0051-498b-b778-8c6b94da1bec",
   "metadata": {},
   "outputs": [
    {
     "data": {
      "text/plain": [
       "np.float64(25.0)"
      ]
     },
     "execution_count": 47,
     "metadata": {},
     "output_type": "execute_result"
    }
   ],
   "source": [
    "df_filled['Age'].median()"
   ]
  },
  {
   "cell_type": "code",
   "execution_count": 48,
   "id": "583833f6-cacd-4445-bd64-891243fc444a",
   "metadata": {},
   "outputs": [
    {
     "data": {
      "text/plain": [
       "np.float64(43.88146913371672)"
      ]
     },
     "execution_count": 48,
     "metadata": {},
     "output_type": "execute_result"
    }
   ],
   "source": [
    "df_filled['Score'].std()"
   ]
  },
  {
   "cell_type": "code",
   "execution_count": 52,
   "id": "1e392063-abf5-4289-9d1e-ba2fb95fb663",
   "metadata": {},
   "outputs": [
    {
     "data": {
      "text/html": [
       "<div>\n",
       "<style scoped>\n",
       "    .dataframe tbody tr th:only-of-type {\n",
       "        vertical-align: middle;\n",
       "    }\n",
       "\n",
       "    .dataframe tbody tr th {\n",
       "        vertical-align: top;\n",
       "    }\n",
       "\n",
       "    .dataframe thead th {\n",
       "        text-align: right;\n",
       "    }\n",
       "</style>\n",
       "<table border=\"1\" class=\"dataframe\">\n",
       "  <thead>\n",
       "    <tr style=\"text-align: right;\">\n",
       "      <th></th>\n",
       "      <th>mean</th>\n",
       "      <th>max</th>\n",
       "      <th>min</th>\n",
       "    </tr>\n",
       "    <tr>\n",
       "      <th>Age Group</th>\n",
       "      <th></th>\n",
       "      <th></th>\n",
       "      <th></th>\n",
       "    </tr>\n",
       "  </thead>\n",
       "  <tbody>\n",
       "    <tr>\n",
       "      <th>Adult</th>\n",
       "      <td>65.75</td>\n",
       "      <td>90.0</td>\n",
       "      <td>0.0</td>\n",
       "    </tr>\n",
       "  </tbody>\n",
       "</table>\n",
       "</div>"
      ],
      "text/plain": [
       "            mean   max  min\n",
       "Age Group                  \n",
       "Adult      65.75  90.0  0.0"
      ]
     },
     "execution_count": 52,
     "metadata": {},
     "output_type": "execute_result"
    }
   ],
   "source": [
    "df_filled.groupby('Age Group')['Score'].agg(['mean', 'max', 'min'])"
   ]
  },
  {
   "cell_type": "code",
   "execution_count": 53,
   "id": "ad38013f-020c-4e8a-bcac-db861d25f1d8",
   "metadata": {},
   "outputs": [
    {
     "data": {
      "text/plain": [
       "3"
      ]
     },
     "execution_count": 53,
     "metadata": {},
     "output_type": "execute_result"
    }
   ],
   "source": [
    "df['Name'].nunique()"
   ]
  },
  {
   "cell_type": "code",
   "execution_count": 54,
   "id": "edde5e2e-ebe0-4b6f-bf8f-a78cdafb5731",
   "metadata": {},
   "outputs": [
    {
     "data": {
      "text/plain": [
       "array(['Alice', 'Bob', None, 'Dave'], dtype=object)"
      ]
     },
     "execution_count": 54,
     "metadata": {},
     "output_type": "execute_result"
    }
   ],
   "source": [
    "df['Name'].unique()"
   ]
  },
  {
   "cell_type": "code",
   "execution_count": 55,
   "id": "21a0d1a7-99dc-43eb-89c8-02f8e46081f5",
   "metadata": {},
   "outputs": [
    {
     "data": {
      "text/plain": [
       "Age\n",
       "25.0    1\n",
       "22.0    1\n",
       "29.0    1\n",
       "Name: count, dtype: int64"
      ]
     },
     "execution_count": 55,
     "metadata": {},
     "output_type": "execute_result"
    }
   ],
   "source": [
    "df['Age'].value_counts()\n"
   ]
  },
  {
   "cell_type": "code",
   "execution_count": 56,
   "id": "3d5de3a2-1798-4f74-ba44-fe7e6b91350e",
   "metadata": {},
   "outputs": [
    {
     "data": {
      "text/plain": [
       "0    ALICE\n",
       "1      BOB\n",
       "2     None\n",
       "3     DAVE\n",
       "Name: Name, dtype: object"
      ]
     },
     "execution_count": 56,
     "metadata": {},
     "output_type": "execute_result"
    }
   ],
   "source": [
    "df['Name'].str.upper()"
   ]
  },
  {
   "cell_type": "code",
   "execution_count": 57,
   "id": "50c66d67-29dd-4a65-86b4-50029a7e1445",
   "metadata": {},
   "outputs": [
    {
     "data": {
      "text/plain": [
       "0    False\n",
       "1    False\n",
       "2     None\n",
       "3     True\n",
       "Name: Name, dtype: object"
      ]
     },
     "execution_count": 57,
     "metadata": {},
     "output_type": "execute_result"
    }
   ],
   "source": [
    "df['Name'].str.contains(\"a\")"
   ]
  },
  {
   "cell_type": "code",
   "execution_count": 60,
   "id": "070ce16f-2969-4ff2-b6ac-e2eb1d0c3927",
   "metadata": {},
   "outputs": [
    {
     "name": "stdout",
     "output_type": "stream",
     "text": [
      "        Age  Score\n",
      "Name              \n",
      "Alice  25.0   85.0\n",
      "Bob     NaN   90.0\n",
      "None   22.0    NaN\n",
      "Dave   29.0   88.0\n"
     ]
    }
   ],
   "source": [
    "df.set_index('Name', inplace=True)\n",
    "print(df)"
   ]
  },
  {
   "cell_type": "code",
   "execution_count": 61,
   "id": "5119c6a9-212d-4596-a10e-35e6f34fd3a4",
   "metadata": {},
   "outputs": [
    {
     "name": "stdout",
     "output_type": "stream",
     "text": [
      "    Name   Age  Score\n",
      "0  Alice  25.0   85.0\n",
      "1    Bob   NaN   90.0\n",
      "2   None  22.0    NaN\n",
      "3   Dave  29.0   88.0\n"
     ]
    }
   ],
   "source": [
    "df.reset_index(inplace=True)\n",
    "print(df)"
   ]
  },
  {
   "cell_type": "code",
   "execution_count": 64,
   "id": "0ce0a293-8b3c-43c5-a1a3-2c781cf19992",
   "metadata": {},
   "outputs": [
    {
     "data": {
      "text/html": [
       "<div>\n",
       "<style scoped>\n",
       "    .dataframe tbody tr th:only-of-type {\n",
       "        vertical-align: middle;\n",
       "    }\n",
       "\n",
       "    .dataframe tbody tr th {\n",
       "        vertical-align: top;\n",
       "    }\n",
       "\n",
       "    .dataframe thead th {\n",
       "        text-align: right;\n",
       "    }\n",
       "</style>\n",
       "<table border=\"1\" class=\"dataframe\">\n",
       "  <thead>\n",
       "    <tr style=\"text-align: right;\">\n",
       "      <th></th>\n",
       "      <th>Name</th>\n",
       "      <th>Age</th>\n",
       "      <th>Score</th>\n",
       "    </tr>\n",
       "  </thead>\n",
       "  <tbody>\n",
       "    <tr>\n",
       "      <th>3</th>\n",
       "      <td>Dave</td>\n",
       "      <td>29.0</td>\n",
       "      <td>88.0</td>\n",
       "    </tr>\n",
       "  </tbody>\n",
       "</table>\n",
       "</div>"
      ],
      "text/plain": [
       "   Name   Age  Score\n",
       "3  Dave  29.0   88.0"
      ]
     },
     "execution_count": 64,
     "metadata": {},
     "output_type": "execute_result"
    }
   ],
   "source": [
    "df.query('Age > 25 and Score > 80')"
   ]
  },
  {
   "cell_type": "code",
   "execution_count": 67,
   "id": "e3ffdd91-975f-41af-9146-0b7eafbb6fe3",
   "metadata": {},
   "outputs": [
    {
     "data": {
      "text/html": [
       "<div>\n",
       "<style scoped>\n",
       "    .dataframe tbody tr th:only-of-type {\n",
       "        vertical-align: middle;\n",
       "    }\n",
       "\n",
       "    .dataframe tbody tr th {\n",
       "        vertical-align: top;\n",
       "    }\n",
       "\n",
       "    .dataframe thead th {\n",
       "        text-align: right;\n",
       "    }\n",
       "</style>\n",
       "<table border=\"1\" class=\"dataframe\">\n",
       "  <thead>\n",
       "    <tr style=\"text-align: right;\">\n",
       "      <th></th>\n",
       "      <th>Score</th>\n",
       "    </tr>\n",
       "    <tr>\n",
       "      <th>Age Group</th>\n",
       "      <th></th>\n",
       "    </tr>\n",
       "  </thead>\n",
       "  <tbody>\n",
       "    <tr>\n",
       "      <th>Adult</th>\n",
       "      <td>65.75</td>\n",
       "    </tr>\n",
       "  </tbody>\n",
       "</table>\n",
       "</div>"
      ],
      "text/plain": [
       "           Score\n",
       "Age Group       \n",
       "Adult      65.75"
      ]
     },
     "execution_count": 67,
     "metadata": {},
     "output_type": "execute_result"
    }
   ],
   "source": [
    "df_filled.pivot_table(values='Score', index='Age Group', aggfunc='mean')"
   ]
  },
  {
   "cell_type": "code",
   "execution_count": 68,
   "id": "4123012d-5512-4723-8e63-21b9a0d49ce9",
   "metadata": {},
   "outputs": [],
   "source": [
    "df_filled.to_csv(\"cleaned_data.csv\", index=False)"
   ]
  },
  {
   "cell_type": "code",
   "execution_count": 69,
   "id": "131ce55b-57a4-421b-9946-f149b0adc157",
   "metadata": {},
   "outputs": [
    {
     "data": {
      "text/html": [
       "<div>\n",
       "<style scoped>\n",
       "    .dataframe tbody tr th:only-of-type {\n",
       "        vertical-align: middle;\n",
       "    }\n",
       "\n",
       "    .dataframe tbody tr th {\n",
       "        vertical-align: top;\n",
       "    }\n",
       "\n",
       "    .dataframe thead th {\n",
       "        text-align: right;\n",
       "    }\n",
       "</style>\n",
       "<table border=\"1\" class=\"dataframe\">\n",
       "  <thead>\n",
       "    <tr style=\"text-align: right;\">\n",
       "      <th></th>\n",
       "      <th>Name</th>\n",
       "      <th>Age</th>\n",
       "      <th>Score</th>\n",
       "      <th>Age Group</th>\n",
       "      <th>Name Length</th>\n",
       "    </tr>\n",
       "  </thead>\n",
       "  <tbody>\n",
       "    <tr>\n",
       "      <th>0</th>\n",
       "      <td>A</td>\n",
       "      <td>25</td>\n",
       "      <td>85.0</td>\n",
       "      <td>Adult</td>\n",
       "      <td>5</td>\n",
       "    </tr>\n",
       "    <tr>\n",
       "      <th>1</th>\n",
       "      <td>Bob</td>\n",
       "      <td>25</td>\n",
       "      <td>90.0</td>\n",
       "      <td>Adult</td>\n",
       "      <td>5</td>\n",
       "    </tr>\n",
       "    <tr>\n",
       "      <th>2</th>\n",
       "      <td>Unknown</td>\n",
       "      <td>22</td>\n",
       "      <td>0.0</td>\n",
       "      <td>Adult</td>\n",
       "      <td>7</td>\n",
       "    </tr>\n",
       "    <tr>\n",
       "      <th>3</th>\n",
       "      <td>Dave</td>\n",
       "      <td>29</td>\n",
       "      <td>88.0</td>\n",
       "      <td>Adult</td>\n",
       "      <td>4</td>\n",
       "    </tr>\n",
       "  </tbody>\n",
       "</table>\n",
       "</div>"
      ],
      "text/plain": [
       "      Name  Age  Score Age Group  Name Length\n",
       "0        A   25   85.0     Adult            5\n",
       "1     Bob    25   90.0     Adult            5\n",
       "2  Unknown   22    0.0     Adult            7\n",
       "3     Dave   29   88.0     Adult            4"
      ]
     },
     "execution_count": 69,
     "metadata": {},
     "output_type": "execute_result"
    }
   ],
   "source": [
    "pd.read_csv(\"cleaned_data.csv\")"
   ]
  },
  {
   "cell_type": "code",
   "execution_count": 73,
   "id": "d276c0ea-0e61-4ea6-8fdd-ee81818249a9",
   "metadata": {},
   "outputs": [
    {
     "name": "stdout",
     "output_type": "stream",
     "text": [
      "      Name  Age  Score Age Group  Name Length   Category\n",
      "0        A   25   85.0     Adult            5        Low\n",
      "1     Bob    25   90.0     Adult            5     Medium\n",
      "2  Unknown   22    0.0     Adult            7       High\n",
      "3     Dave   29   88.0     Adult            4  Very High\n"
     ]
    }
   ],
   "source": [
    "df_filled['Category'] = pd.Categorical(['Low', 'Medium', 'High', 'Very High'])\n",
    "print(df_filled)"
   ]
  },
  {
   "cell_type": "code",
   "execution_count": 75,
   "id": "38d93170-b03a-4ed1-aeb8-1c9b68701937",
   "metadata": {},
   "outputs": [],
   "source": [
    "df1 = pd.DataFrame({\n",
    "    'StudentID': [1, 2],\n",
    "    'Name': ['Alice', 'Bob']\n",
    "})\n",
    "\n",
    "df2 = pd.DataFrame({\n",
    "    'StudentID': [3, 4],\n",
    "    'Name': ['Charlie', 'David']\n",
    "})"
   ]
  },
  {
   "cell_type": "code",
   "execution_count": 78,
   "id": "dae01281-be06-43e4-8c96-d31486a4b009",
   "metadata": {},
   "outputs": [
    {
     "name": "stdout",
     "output_type": "stream",
     "text": [
      "   StudentID     Name\n",
      "0          1    Alice\n",
      "1          2      Bob\n",
      "2          3  Charlie\n",
      "3          4    David\n"
     ]
    }
   ],
   "source": [
    "df_concat = pd.concat([df1, df2], ignore_index=True)\n",
    "print(df_concat)"
   ]
  },
  {
   "cell_type": "code",
   "execution_count": 81,
   "id": "791972d5-77e0-4136-b74a-b1c40190411a",
   "metadata": {},
   "outputs": [
    {
     "name": "stdout",
     "output_type": "stream",
     "text": [
      "   StudentID Name_x   Name_y\n",
      "0          1  Alice  Charlie\n",
      "1          2    Bob    David\n"
     ]
    }
   ],
   "source": [
    "# Merge based on StudentID (INNER JOIN by default)\n",
    "\n",
    "df1 = pd.DataFrame({\n",
    "    'StudentID': [1, 2],\n",
    "    'Name': ['Alice', 'Bob']\n",
    "})\n",
    "\n",
    "df2 = pd.DataFrame({\n",
    "    'StudentID': [1, 2],\n",
    "    'Name': ['Charlie', 'David']\n",
    "})\n",
    "\n",
    "\n",
    "df_merged = pd.merge(df1, df2, on='StudentID', how='inner')\n",
    "print(df_merged)"
   ]
  },
  {
   "cell_type": "code",
   "execution_count": null,
   "id": "51c73ad7-76b4-4057-bc75-31a4a070e936",
   "metadata": {},
   "outputs": [],
   "source": []
  }
 ],
 "metadata": {
  "kernelspec": {
   "display_name": "Python 3 (ipykernel)",
   "language": "python",
   "name": "python3"
  },
  "language_info": {
   "codemirror_mode": {
    "name": "ipython",
    "version": 3
   },
   "file_extension": ".py",
   "mimetype": "text/x-python",
   "name": "python",
   "nbconvert_exporter": "python",
   "pygments_lexer": "ipython3",
   "version": "3.12.3"
  }
 },
 "nbformat": 4,
 "nbformat_minor": 5
}
